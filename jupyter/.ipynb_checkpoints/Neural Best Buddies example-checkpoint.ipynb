{
 "cells": [
  {
   "cell_type": "markdown",
   "metadata": {},
   "source": [
    "## Neural Best Buddies"
   ]
  },
  {
   "cell_type": "code",
   "execution_count": 1,
   "metadata": {},
   "outputs": [],
   "source": [
    "import nbb\n",
    "from nbb.options import Options"
   ]
  },
  {
   "cell_type": "code",
   "execution_count": 2,
   "metadata": {},
   "outputs": [
    {
     "name": "stdout",
     "output_type": "stream",
     "text": [
      "imageSize 224\n",
      "gpu_ids [0]\n",
      "tau 0.05\n",
      "border_size 7\n",
      "input_nc 3\n",
      "batchSize 1\n",
      "k_per_level 1000\n",
      "k_final 10\n",
      "fast False\n",
      "name experiment_name\n",
      "results_dir ../results\n",
      "save_path None\n",
      "niter_decay 100\n",
      "beta1 0.5\n",
      "lr 0.05\n",
      "gamma 1\n",
      "convergence_threshold 0.001\n"
     ]
    },
    {
     "ename": "FileNotFoundError",
     "evalue": "[Errno 2] No such file or directory: '/home/z/data/LFW/lfw/German_Khan/German_Khan_0002.jpg'",
     "output_type": "error",
     "traceback": [
      "\u001b[0;31m---------------------------------------------------------------------------\u001b[0m",
      "\u001b[0;31mFileNotFoundError\u001b[0m                         Traceback (most recent call last)",
      "\u001b[0;32m<ipython-input-2-51414d24d2ec>\u001b[0m in \u001b[0;36m<module>\u001b[0;34m()\u001b[0m\n\u001b[1;32m      7\u001b[0m \u001b[0mo\u001b[0m \u001b[0;34m=\u001b[0m \u001b[0mOptions\u001b[0m\u001b[0;34m(\u001b[0m\u001b[0;34m)\u001b[0m\u001b[0;34m\u001b[0m\u001b[0m\n\u001b[1;32m      8\u001b[0m \u001b[0mo\u001b[0m\u001b[0;34m.\u001b[0m\u001b[0msetoptions\u001b[0m\u001b[0;34m(\u001b[0m\u001b[0mda\u001b[0m\u001b[0;34m,\u001b[0m\u001b[0mdb\u001b[0m\u001b[0;34m,\u001b[0m\u001b[0mname\u001b[0m\u001b[0;34m=\u001b[0m\u001b[0mname\u001b[0m\u001b[0;34m,\u001b[0m\u001b[0mk_final\u001b[0m\u001b[0;34m=\u001b[0m\u001b[0mk_final\u001b[0m\u001b[0;34m,\u001b[0m\u001b[0mresults_dir\u001b[0m\u001b[0;34m=\u001b[0m\u001b[0mresults_dir\u001b[0m\u001b[0;34m)\u001b[0m\u001b[0;34m\u001b[0m\u001b[0m\n\u001b[0;32m----> 9\u001b[0;31m \u001b[0mnbb\u001b[0m\u001b[0;34m.\u001b[0m\u001b[0mrun_files\u001b[0m\u001b[0;34m(\u001b[0m\u001b[0mo\u001b[0m\u001b[0;34m.\u001b[0m\u001b[0mopt\u001b[0m\u001b[0;34m)\u001b[0m\u001b[0;34m\u001b[0m\u001b[0m\n\u001b[0m",
      "\u001b[0;32m~/miniconda3/envs/aba/lib/python3.6/site-packages/nbb/run.py\u001b[0m in \u001b[0;36mrun_files\u001b[0;34m(opt)\u001b[0m\n\u001b[1;32m     18\u001b[0m                                                save_dir, opt.k_per_level, opt.k_final, opt.fast)\n\u001b[1;32m     19\u001b[0m \u001b[0;34m\u001b[0m\u001b[0m\n\u001b[0;32m---> 20\u001b[0;31m     \u001b[0mA\u001b[0m \u001b[0;34m=\u001b[0m \u001b[0mutil\u001b[0m\u001b[0;34m.\u001b[0m\u001b[0mread_image\u001b[0m\u001b[0;34m(\u001b[0m\u001b[0mopt\u001b[0m\u001b[0;34m.\u001b[0m\u001b[0mdatarootA\u001b[0m\u001b[0;34m,\u001b[0m \u001b[0mopt\u001b[0m\u001b[0;34m.\u001b[0m\u001b[0mimageSize\u001b[0m\u001b[0;34m)\u001b[0m\u001b[0;34m\u001b[0m\u001b[0m\n\u001b[0m\u001b[1;32m     21\u001b[0m     \u001b[0mB\u001b[0m \u001b[0;34m=\u001b[0m \u001b[0mutil\u001b[0m\u001b[0;34m.\u001b[0m\u001b[0mread_image\u001b[0m\u001b[0;34m(\u001b[0m\u001b[0mopt\u001b[0m\u001b[0;34m.\u001b[0m\u001b[0mdatarootB\u001b[0m\u001b[0;34m,\u001b[0m \u001b[0mopt\u001b[0m\u001b[0;34m.\u001b[0m\u001b[0mimageSize\u001b[0m\u001b[0;34m)\u001b[0m\u001b[0;34m\u001b[0m\u001b[0m\n\u001b[1;32m     22\u001b[0m \u001b[0;34m\u001b[0m\u001b[0m\n",
      "\u001b[0;32m~/miniconda3/envs/aba/lib/python3.6/site-packages/nbb/util/util.py\u001b[0m in \u001b[0;36mread_image\u001b[0;34m(path, witdh)\u001b[0m\n\u001b[1;32m     14\u001b[0m \u001b[0;31m# |imtype|: the desired type of the converted numpy array\u001b[0m\u001b[0;34m\u001b[0m\u001b[0;34m\u001b[0m\u001b[0m\n\u001b[1;32m     15\u001b[0m \u001b[0;32mdef\u001b[0m \u001b[0mread_image\u001b[0m\u001b[0;34m(\u001b[0m\u001b[0mpath\u001b[0m\u001b[0;34m,\u001b[0m \u001b[0mwitdh\u001b[0m\u001b[0;34m)\u001b[0m\u001b[0;34m:\u001b[0m\u001b[0;34m\u001b[0m\u001b[0m\n\u001b[0;32m---> 16\u001b[0;31m     \u001b[0mI\u001b[0m \u001b[0;34m=\u001b[0m \u001b[0mImage\u001b[0m\u001b[0;34m.\u001b[0m\u001b[0mopen\u001b[0m\u001b[0;34m(\u001b[0m\u001b[0mpath\u001b[0m\u001b[0;34m)\u001b[0m\u001b[0;34m.\u001b[0m\u001b[0mconvert\u001b[0m\u001b[0;34m(\u001b[0m\u001b[0;34m'RGB'\u001b[0m\u001b[0;34m)\u001b[0m\u001b[0;34m\u001b[0m\u001b[0m\n\u001b[0m\u001b[1;32m     17\u001b[0m \u001b[0;34m\u001b[0m\u001b[0m\n\u001b[1;32m     18\u001b[0m     \u001b[0;31m# figure out why transform doesnt handle image an image that is 1024**2\u001b[0m\u001b[0;34m\u001b[0m\u001b[0;34m\u001b[0m\u001b[0m\n",
      "\u001b[0;32m~/miniconda3/envs/aba/lib/python3.6/site-packages/PIL/Image.py\u001b[0m in \u001b[0;36mopen\u001b[0;34m(fp, mode)\u001b[0m\n\u001b[1;32m   2546\u001b[0m \u001b[0;34m\u001b[0m\u001b[0m\n\u001b[1;32m   2547\u001b[0m     \u001b[0;32mif\u001b[0m \u001b[0mfilename\u001b[0m\u001b[0;34m:\u001b[0m\u001b[0;34m\u001b[0m\u001b[0m\n\u001b[0;32m-> 2548\u001b[0;31m         \u001b[0mfp\u001b[0m \u001b[0;34m=\u001b[0m \u001b[0mbuiltins\u001b[0m\u001b[0;34m.\u001b[0m\u001b[0mopen\u001b[0m\u001b[0;34m(\u001b[0m\u001b[0mfilename\u001b[0m\u001b[0;34m,\u001b[0m \u001b[0;34m\"rb\"\u001b[0m\u001b[0;34m)\u001b[0m\u001b[0;34m\u001b[0m\u001b[0m\n\u001b[0m\u001b[1;32m   2549\u001b[0m         \u001b[0mexclusive_fp\u001b[0m \u001b[0;34m=\u001b[0m \u001b[0;32mTrue\u001b[0m\u001b[0;34m\u001b[0m\u001b[0m\n\u001b[1;32m   2550\u001b[0m \u001b[0;34m\u001b[0m\u001b[0m\n",
      "\u001b[0;31mFileNotFoundError\u001b[0m: [Errno 2] No such file or directory: '/home/z/data/LFW/lfw/German_Khan/German_Khan_0002.jpg'"
     ]
    }
   ],
   "source": [
    "\n",
    "da = '/home/z/data/LFW/lfw/Jade_Jagger/Jade_Jagger_0001.jpg'\n",
    "db = '/home/z/data/LFW/lfw/Jacqueline_Marris/Jacqueline_Marris_0001.jpg'\n",
    "name='German_John'\n",
    "k_final=20\n",
    "results_dir = None#'/home/z/work/test'\n",
    "o = Options()\n",
    "o.setoptions(da,db,name=name,k_final=k_final,results_dir=results_dir)\n",
    "nbb.run_files(o.opt)\n"
   ]
  },
  {
   "cell_type": "code",
   "execution_count": 68,
   "metadata": {},
   "outputs": [],
   "source": [
    "\n",
    "class Options():\n",
    "    def __init__(self):\n",
    "        self.parser = argparse.ArgumentParser()\n",
    "        self.initialized = False\n",
    "        \n",
    "        self.args = {\n",
    "            'imageSize': [224, 'rescale the image to this size'],\n",
    "            'gpu_ids': ['0', 'gpu ids: e.g. 0  0,1,2, 0,2. use -1 for CPU'],\n",
    "            'tau': [0.05, 'response threshold'],\n",
    "            'border_size': [7, 'removing this brder_size correspondences in the final mapping'],\n",
    "            'input_nc': [3, 'number of input channels'],\n",
    "            'batchSize': [1, 'batch size'],\n",
    "            'k_per_level': [1000, 'maximal number of best buddies per local search.'],\n",
    "            'k_final': [10, 'The number of chosen best buddies based on their accumulative response.'],\n",
    "            'fast': [False, 'if specified, stop the algorithm in layer 2, to accelerate runtime.'],\n",
    "            'name': ['experiment_name', 'name of the experiment'],\n",
    "            'results_dir': ['../results', 'models are saved here'],\n",
    "            'save_path': [None, 'path to save outputs (use in features family)'],\n",
    "            'niter_decay':[ 100, '# of iter to linearly decay learning rate to zero'],\n",
    "            'beta1': [0.5, 'momentum term of adam'],\n",
    "            'lr': [0.05, 'initial learning rate for adam'],\n",
    "            'gamma': [1, 'weight for equallibrium in BEGAN or ratio between I0 and Iref features for optimize_based_features'],\n",
    "            'convergence_threshold': [0.001, 'threshold for convergence for watefall mode (for optimize_based_features_model']\n",
    "        }\n",
    "    class opt:\n",
    "        def __init__(self, **entries):\n",
    "            self.__dict__.update(entries)\n",
    "        \n",
    "    def initialize(self):\n",
    "        self.parser.add_argument('--datarootA', required=True, help='path to image A')\n",
    "        self.parser.add_argument('--datarootB', required=True, help='path to image B')\n",
    "        self.parser.add_argument('--fast', action='store_true', help='if specified, stop the algorithm in layer 2, to accelerate runtime.')\n",
    "        \n",
    "        for arg in self.args:\n",
    "            if arg == 'fast':\n",
    "                continue\n",
    "                \n",
    "            argname = '--'+arg\n",
    "            argdefault = self.args[arg][0]\n",
    "            argtype = type(argdefault)\n",
    "            arghelp = self.args[arg][1]\n",
    "            \n",
    "            if arg == 'save_path':\n",
    "                if isinstance(argdefault, type(None)):\n",
    "                    argdefault= 'None'\n",
    "                    argtype = type(argdefault)\n",
    "            self.parser.add_argument(argname, type=argtype, default=argdefault, help=arghelp)\n",
    "            \n",
    "        self.initialized = True\n",
    "\n",
    "    def set_(self, datarootA, datarootB, **kwargs):\n",
    "        \"\"\"bypass to arg parser \"\"\"\n",
    "        odic = {}\n",
    "        #required arguments\n",
    "        odic['datarootA'] = datarootA\n",
    "        odic['datarootB'] = datarootB\n",
    "        for arg in self.args:\n",
    "            if arg in kwargs:\n",
    "                odic[arg] = kwargs[arg]\n",
    "            else:\n",
    "                odic[arg] = self.args[arg][0]\n",
    "            print(arg, self.args[arg])\n",
    "        self.opt = opt(**odic)\n",
    "        \n",
    "o = Options()"
   ]
  },
  {
   "cell_type": "code",
   "execution_count": 59,
   "metadata": {},
   "outputs": [
    {
     "data": {
      "text/plain": [
       "True"
      ]
     },
     "execution_count": 59,
     "metadata": {},
     "output_type": "execute_result"
    }
   ],
   "source": [
    "type(None)\n",
    "isinstance(None, type(None))"
   ]
  },
  {
   "cell_type": "code",
   "execution_count": 67,
   "metadata": {},
   "outputs": [
    {
     "name": "stdout",
     "output_type": "stream",
     "text": [
      "imageSize [224, 'rescale the image to this size']\n",
      "gpu_ids ['0', 'gpu ids: e.g. 0  0,1,2, 0,2. use -1 for CPU']\n",
      "tau [0.05, 'response threshold']\n",
      "border_size [7, 'removing this brder_size correspondences in the final mapping']\n",
      "input_nc [3, 'number of input channels']\n",
      "batchSize [1, 'batch size']\n",
      "k_per_level [1000, 'maximal number of best buddies per local search.']\n",
      "k_final [10, 'The number of chosen best buddies based on their accumulative response.']\n",
      "fast [False, 'if specified, stop the algorithm in layer 2, to accelerate runtime.']\n",
      "name ['experiment_name', 'name of the experiment']\n",
      "results_dir ['../results', 'models are saved here']\n",
      "save_path [None, 'path to save outputs (use in features family)']\n",
      "niter_decay [100, '# of iter to linearly decay learning rate to zero']\n",
      "beta1 [0.5, 'momentum term of adam']\n",
      "lr [0.05, 'initial learning rate for adam']\n",
      "gamma [1, 'weight for equallibrium in BEGAN or ratio between I0 and Iref features for optimize_based_features']\n",
      "convergence_threshold [0.001, 'threshold for convergence for watefall mode (for optimize_based_features_model']\n",
      "{'datarootA': 'john', 'datarootB': 'tom', 'imageSize': 224, 'gpu_ids': '0', 'tau': 0.05, 'border_size': 7, 'input_nc': 3, 'batchSize': 1, 'k_per_level': 1000, 'k_final': 10, 'fast': False, 'name': 'experiment_name', 'results_dir': '../results', 'save_path': None, 'niter_decay': 100, 'beta1': 0.5, 'lr': 0.05, 'gamma': 1, 'convergence_threshold': 0.001}\n"
     ]
    }
   ],
   "source": [
    "o.set_('john','tom',imageSizes=1024)\n",
    "print(o.opt.__dict__)\n",
    "#o.initialize()"
   ]
  },
  {
   "cell_type": "code",
   "execution_count": 52,
   "metadata": {
    "scrolled": false
   },
   "outputs": [
    {
     "data": {
      "text/plain": [
       "{'description': None,\n",
       " 'argument_default': None,\n",
       " 'prefix_chars': '-',\n",
       " 'conflict_handler': 'error',\n",
       " '_registries': {'action': {None: argparse._StoreAction,\n",
       "   'store': argparse._StoreAction,\n",
       "   'store_const': argparse._StoreConstAction,\n",
       "   'store_true': argparse._StoreTrueAction,\n",
       "   'store_false': argparse._StoreFalseAction,\n",
       "   'append': argparse._AppendAction,\n",
       "   'append_const': argparse._AppendConstAction,\n",
       "   'count': argparse._CountAction,\n",
       "   'help': argparse._HelpAction,\n",
       "   'version': argparse._VersionAction,\n",
       "   'parsers': argparse._SubParsersAction},\n",
       "  'type': {None: <function argparse.ArgumentParser.__init__.<locals>.identity(string)>}},\n",
       " '_actions': [_HelpAction(option_strings=['-h', '--help'], dest='help', nargs=0, const=None, default='==SUPPRESS==', type=None, choices=None, help='show this help message and exit', metavar=None),\n",
       "  _StoreAction(option_strings=['--datarootA'], dest='datarootA', nargs=None, const=None, default=None, type=None, choices=None, help='path to image A', metavar=None),\n",
       "  _StoreAction(option_strings=['--datarootB'], dest='datarootB', nargs=None, const=None, default=None, type=None, choices=None, help='path to image B', metavar=None),\n",
       "  _StoreTrueAction(option_strings=['--fast'], dest='fast', nargs=0, const=True, default=False, type=None, choices=None, help='if specified, stop the algorithm in layer 2, to accelerate runtime.', metavar=None),\n",
       "  _StoreAction(option_strings=['--imageSize'], dest='imageSize', nargs=None, const=None, default=224, type=<class 'int'>, choices=None, help='rescale the image to this size', metavar=None),\n",
       "  _StoreAction(option_strings=['--gpu_ids'], dest='gpu_ids', nargs=None, const=None, default='0', type=<class 'str'>, choices=None, help='gpu ids: e.g. 0  0,1,2, 0,2. use -1 for CPU', metavar=None),\n",
       "  _StoreAction(option_strings=['--tau'], dest='tau', nargs=None, const=None, default=0.05, type=<class 'float'>, choices=None, help='response threshold', metavar=None),\n",
       "  _StoreAction(option_strings=['--border_size'], dest='border_size', nargs=None, const=None, default=7, type=<class 'int'>, choices=None, help='removing this brder_size correspondences in the final mapping', metavar=None),\n",
       "  _StoreAction(option_strings=['--input_nc'], dest='input_nc', nargs=None, const=None, default=3, type=<class 'int'>, choices=None, help='number of input channels', metavar=None),\n",
       "  _StoreAction(option_strings=['--batchSize'], dest='batchSize', nargs=None, const=None, default=1, type=<class 'int'>, choices=None, help='batch size', metavar=None),\n",
       "  _StoreAction(option_strings=['--k_per_level'], dest='k_per_level', nargs=None, const=None, default=1000, type=<class 'int'>, choices=None, help='maximal number of best buddies per local search.', metavar=None),\n",
       "  _StoreAction(option_strings=['--k_final'], dest='k_final', nargs=None, const=None, default=10, type=<class 'int'>, choices=None, help='The number of chosen best buddies based on their accumulative response.', metavar=None),\n",
       "  _StoreAction(option_strings=['--name'], dest='name', nargs=None, const=None, default='experiment_name', type=<class 'str'>, choices=None, help='name of the experiment', metavar=None),\n",
       "  _StoreAction(option_strings=['--results_dir'], dest='results_dir', nargs=None, const=None, default='../results', type=<class 'str'>, choices=None, help='models are saved here', metavar=None),\n",
       "  _StoreAction(option_strings=['--save_path'], dest='save_path', nargs=None, const=None, default='None', type=<class 'str'>, choices=None, help='path to save outputs (use in features family)', metavar=None),\n",
       "  _StoreAction(option_strings=['--niter_decay'], dest='niter_decay', nargs=None, const=None, default=100, type=<class 'int'>, choices=None, help='# of iter to linearly decay learning rate to zero', metavar=None),\n",
       "  _StoreAction(option_strings=['--beta1'], dest='beta1', nargs=None, const=None, default=0.5, type=<class 'float'>, choices=None, help='momentum term of adam', metavar=None),\n",
       "  _StoreAction(option_strings=['--lr'], dest='lr', nargs=None, const=None, default=0.05, type=<class 'float'>, choices=None, help='initial learning rate for adam', metavar=None),\n",
       "  _StoreAction(option_strings=['--gamma'], dest='gamma', nargs=None, const=None, default=1, type=<class 'int'>, choices=None, help='weight for equallibrium in BEGAN or ratio between I0 and Iref features for optimize_based_features', metavar=None),\n",
       "  _StoreAction(option_strings=['--convergence_threshold'], dest='convergence_threshold', nargs=None, const=None, default=0.001, type=<class 'float'>, choices=None, help='threshold for convergence for watefall mode (for optimize_based_features_model', metavar=None)],\n",
       " '_option_string_actions': {'-h': _HelpAction(option_strings=['-h', '--help'], dest='help', nargs=0, const=None, default='==SUPPRESS==', type=None, choices=None, help='show this help message and exit', metavar=None),\n",
       "  '--help': _HelpAction(option_strings=['-h', '--help'], dest='help', nargs=0, const=None, default='==SUPPRESS==', type=None, choices=None, help='show this help message and exit', metavar=None),\n",
       "  '--datarootA': _StoreAction(option_strings=['--datarootA'], dest='datarootA', nargs=None, const=None, default=None, type=None, choices=None, help='path to image A', metavar=None),\n",
       "  '--datarootB': _StoreAction(option_strings=['--datarootB'], dest='datarootB', nargs=None, const=None, default=None, type=None, choices=None, help='path to image B', metavar=None),\n",
       "  '--fast': _StoreTrueAction(option_strings=['--fast'], dest='fast', nargs=0, const=True, default=False, type=None, choices=None, help='if specified, stop the algorithm in layer 2, to accelerate runtime.', metavar=None),\n",
       "  '--imageSize': _StoreAction(option_strings=['--imageSize'], dest='imageSize', nargs=None, const=None, default=224, type=<class 'int'>, choices=None, help='rescale the image to this size', metavar=None),\n",
       "  '--gpu_ids': _StoreAction(option_strings=['--gpu_ids'], dest='gpu_ids', nargs=None, const=None, default='0', type=<class 'str'>, choices=None, help='gpu ids: e.g. 0  0,1,2, 0,2. use -1 for CPU', metavar=None),\n",
       "  '--tau': _StoreAction(option_strings=['--tau'], dest='tau', nargs=None, const=None, default=0.05, type=<class 'float'>, choices=None, help='response threshold', metavar=None),\n",
       "  '--border_size': _StoreAction(option_strings=['--border_size'], dest='border_size', nargs=None, const=None, default=7, type=<class 'int'>, choices=None, help='removing this brder_size correspondences in the final mapping', metavar=None),\n",
       "  '--input_nc': _StoreAction(option_strings=['--input_nc'], dest='input_nc', nargs=None, const=None, default=3, type=<class 'int'>, choices=None, help='number of input channels', metavar=None),\n",
       "  '--batchSize': _StoreAction(option_strings=['--batchSize'], dest='batchSize', nargs=None, const=None, default=1, type=<class 'int'>, choices=None, help='batch size', metavar=None),\n",
       "  '--k_per_level': _StoreAction(option_strings=['--k_per_level'], dest='k_per_level', nargs=None, const=None, default=1000, type=<class 'int'>, choices=None, help='maximal number of best buddies per local search.', metavar=None),\n",
       "  '--k_final': _StoreAction(option_strings=['--k_final'], dest='k_final', nargs=None, const=None, default=10, type=<class 'int'>, choices=None, help='The number of chosen best buddies based on their accumulative response.', metavar=None),\n",
       "  '--name': _StoreAction(option_strings=['--name'], dest='name', nargs=None, const=None, default='experiment_name', type=<class 'str'>, choices=None, help='name of the experiment', metavar=None),\n",
       "  '--results_dir': _StoreAction(option_strings=['--results_dir'], dest='results_dir', nargs=None, const=None, default='../results', type=<class 'str'>, choices=None, help='models are saved here', metavar=None),\n",
       "  '--save_path': _StoreAction(option_strings=['--save_path'], dest='save_path', nargs=None, const=None, default='None', type=<class 'str'>, choices=None, help='path to save outputs (use in features family)', metavar=None),\n",
       "  '--niter_decay': _StoreAction(option_strings=['--niter_decay'], dest='niter_decay', nargs=None, const=None, default=100, type=<class 'int'>, choices=None, help='# of iter to linearly decay learning rate to zero', metavar=None),\n",
       "  '--beta1': _StoreAction(option_strings=['--beta1'], dest='beta1', nargs=None, const=None, default=0.5, type=<class 'float'>, choices=None, help='momentum term of adam', metavar=None),\n",
       "  '--lr': _StoreAction(option_strings=['--lr'], dest='lr', nargs=None, const=None, default=0.05, type=<class 'float'>, choices=None, help='initial learning rate for adam', metavar=None),\n",
       "  '--gamma': _StoreAction(option_strings=['--gamma'], dest='gamma', nargs=None, const=None, default=1, type=<class 'int'>, choices=None, help='weight for equallibrium in BEGAN or ratio between I0 and Iref features for optimize_based_features', metavar=None),\n",
       "  '--convergence_threshold': _StoreAction(option_strings=['--convergence_threshold'], dest='convergence_threshold', nargs=None, const=None, default=0.001, type=<class 'float'>, choices=None, help='threshold for convergence for watefall mode (for optimize_based_features_model', metavar=None)},\n",
       " '_action_groups': [<argparse._ArgumentGroup at 0x7f20de880898>,\n",
       "  <argparse._ArgumentGroup at 0x7f20de880f98>],\n",
       " '_mutually_exclusive_groups': [],\n",
       " '_defaults': {},\n",
       " '_negative_number_matcher': re.compile(r'^-\\d+$|^-\\d*\\.\\d+$', re.UNICODE),\n",
       " '_has_negative_number_optionals': [],\n",
       " 'prog': 'ipykernel_launcher.py',\n",
       " 'usage': None,\n",
       " 'epilog': None,\n",
       " 'formatter_class': argparse.HelpFormatter,\n",
       " 'fromfile_prefix_chars': None,\n",
       " 'add_help': True,\n",
       " 'allow_abbrev': True,\n",
       " '_positionals': <argparse._ArgumentGroup at 0x7f20de880898>,\n",
       " '_optionals': <argparse._ArgumentGroup at 0x7f20de880f98>,\n",
       " '_subparsers': None}"
      ]
     },
     "execution_count": 52,
     "metadata": {},
     "output_type": "execute_result"
    }
   ],
   "source": [
    "o.parser.__dict__"
   ]
  },
  {
   "cell_type": "code",
   "execution_count": 14,
   "metadata": {
    "scrolled": false
   },
   "outputs": [
    {
     "name": "stderr",
     "output_type": "stream",
     "text": [
      "usage: ipykernel_launcher.py [-h] --datarootA DATAROOTA --datarootB DATAROOTB\n",
      "                             [--imageSize IMAGESIZE] [--gpu_ids GPU_IDS]\n",
      "                             [--tau TAU] [--border_size BORDER_SIZE]\n",
      "                             [--input_nc INPUT_NC] [--batchSize BATCHSIZE]\n",
      "                             [--k_per_level K_PER_LEVEL] [--k_final K_FINAL]\n",
      "                             [--fast] [--name NAME]\n",
      "                             [--results_dir RESULTS_DIR]\n",
      "                             [--save_path SAVE_PATH]\n",
      "                             [--niter_decay NITER_DECAY] [--beta1 BETA1]\n",
      "                             [--lr LR] [--gamma GAMMA]\n",
      "                             [--convergence_threshold CONVERGENCE_THRESHOLD]\n",
      "ipykernel_launcher.py: error: the following arguments are required: --datarootA, --datarootB\n"
     ]
    },
    {
     "ename": "SystemExit",
     "evalue": "2",
     "output_type": "error",
     "traceback": [
      "An exception has occurred, use %tb to see the full traceback.\n",
      "\u001b[0;31mSystemExit\u001b[0m\u001b[0;31m:\u001b[0m 2\n"
     ]
    },
    {
     "name": "stderr",
     "output_type": "stream",
     "text": [
      "/home/z/miniconda3/envs/aba/lib/python3.6/site-packages/IPython/core/interactiveshell.py:2971: UserWarning: To exit: use 'exit', 'quit', or Ctrl-D.\n",
      "  warn(\"To exit: use 'exit', 'quit', or Ctrl-D.\", stacklevel=1)\n"
     ]
    }
   ],
   "source": [
    "o.parser.parse_args()"
   ]
  },
  {
   "cell_type": "code",
   "execution_count": null,
   "metadata": {},
   "outputs": [],
   "source": []
  }
 ],
 "metadata": {
  "kernelspec": {
   "display_name": "Python 3",
   "language": "python",
   "name": "python3"
  },
  "language_info": {
   "codemirror_mode": {
    "name": "ipython",
    "version": 3
   },
   "file_extension": ".py",
   "mimetype": "text/x-python",
   "name": "python",
   "nbconvert_exporter": "python",
   "pygments_lexer": "ipython3",
   "version": "3.6.5"
  }
 },
 "nbformat": 4,
 "nbformat_minor": 2
}
